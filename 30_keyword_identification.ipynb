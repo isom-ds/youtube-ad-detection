{
 "cells": [
  {
   "cell_type": "markdown",
   "metadata": {},
   "source": [
    "# Keyword Identification"
   ]
  },
  {
   "cell_type": "code",
   "execution_count": 1,
   "metadata": {},
   "outputs": [
    {
     "name": "stderr",
     "output_type": "stream",
     "text": [
      "/usr/local/lib/python3.12/site-packages/sentence_transformers/cross_encoder/CrossEncoder.py:13: TqdmExperimentalWarning: Using `tqdm.autonotebook.tqdm` in notebook mode. Use `tqdm.tqdm` instead to force console mode (e.g. in jupyter console)\n",
      "  from tqdm.autonotebook import tqdm, trange\n"
     ]
    }
   ],
   "source": [
    "import json\n",
    "from keybert import KeyBERT\n",
    "\n",
    "from functions import load_json, combine_transcripts"
   ]
  },
  {
   "cell_type": "markdown",
   "metadata": {},
   "source": [
    "## Load Processed Data"
   ]
  },
  {
   "cell_type": "code",
   "execution_count": 2,
   "metadata": {},
   "outputs": [],
   "source": [
    "# Load json file from data folder\n",
    "transcripts_4o = load_json('/workspaces/youtube-ad-detection/data/processed_transcripts_gpt4o.json')\n",
    "transcripts_4 = load_json('/workspaces/youtube-ad-detection/data/processed_transcripts_gpt4.json')\n",
    "\n",
    "ads_4o = load_json('/workspaces/youtube-ad-detection/data/processed_ads_gpt4o.json')\n",
    "ads_4 = load_json('/workspaces/youtube-ad-detection/data/processed_ads_gpt4.json')"
   ]
  },
  {
   "cell_type": "markdown",
   "metadata": {},
   "source": [
    "## Combine Transcripts"
   ]
  },
  {
   "cell_type": "code",
   "execution_count": 19,
   "metadata": {},
   "outputs": [
    {
     "name": "stdout",
     "output_type": "stream",
     "text": [
      "SciShow: Generated = 47 Manual = 28\n",
      "Johnny Harris: Generated = 48 Manual = 44\n",
      "PBS Space Time: Generated = 44 Manual = 48\n",
      "3Blue1Brown: Generated = 9 Manual = 49\n",
      "DamiLee: Generated = 48 Manual = 9\n",
      "Fireship: Generated = 47 Manual = 0\n"
     ]
    }
   ],
   "source": [
    "# Transcripts\n",
    "combined_transcripts_4o = combine_transcripts(transcripts_4o, print_stats=True)\n",
    "combined_transcripts_4 = combine_transcripts(transcripts_4)\n"
   ]
  },
  {
   "cell_type": "code",
   "execution_count": 20,
   "metadata": {},
   "outputs": [
    {
     "name": "stdout",
     "output_type": "stream",
     "text": [
      "SciShow: Generated = 23 Manual = 23\n",
      "Johnny Harris: Generated = 42 Manual = 41\n",
      "PBS Space Time: Generated = 20 Manual = 27\n",
      "3Blue1Brown: Generated = 0 Manual = 3\n",
      "DamiLee: Generated = 14 Manual = 7\n",
      "Fireship: Generated = 10 Manual = 0\n"
     ]
    }
   ],
   "source": [
    "# Ads\n",
    "combined_ads_4o = combine_transcripts(ads_4o, print_stats=True)\n",
    "combined_ads_4 = combine_transcripts(ads_4)"
   ]
  },
  {
   "cell_type": "code",
   "execution_count": 21,
   "metadata": {},
   "outputs": [
    {
     "data": {
      "text/plain": [
       "\"Jeet brain idees sponsor today 's video legendary family integrated development environment used million developer every day famous sophisticated code completion integrated tooling web developer 'm big fan webstorm contains everything 'll need craziness JavaScript development understand write code even faster thanks AI assistant 's programming optimized model offer suggestion describe code write code understanding context large project importantly IDE reliable fun use 's got intuitive minimal interface ton power hood n't need install bunch plugins start productive best try Jeet brain 's idees favorite programming language 30-day free trial use link description deson let 's talk\""
      ]
     },
     "execution_count": 21,
     "metadata": {},
     "output_type": "execute_result"
    }
   ],
   "source": [
    "combined_ads_4o['Fireship'][9]['generated']"
   ]
  },
  {
   "cell_type": "markdown",
   "metadata": {},
   "source": [
    "## Find Keywords"
   ]
  },
  {
   "cell_type": "code",
   "execution_count": 22,
   "metadata": {},
   "outputs": [],
   "source": [
    "# Create a KeyBERT model\n",
    "kw_model = KeyBERT()"
   ]
  },
  {
   "cell_type": "code",
   "execution_count": 34,
   "metadata": {},
   "outputs": [],
   "source": [
    "def find_kw(data, ngram_range = (1,2), topn = 5):\n",
    "    kw_data = {}\n",
    "    for channel, value in data.items():\n",
    "        kw_data[channel] = []\n",
    "        for video in value:\n",
    "            if video and video['manual']:\n",
    "                kw_manual = kw_model.extract_keywords(video['manual'], keyphrase_ngram_range=ngram_range, top_n=topn, stop_words='english')\n",
    "                l_manual = [i[0] for i in kw_manual]\n",
    "            else:\n",
    "                l_manual = None\n",
    "            if video and video['generated']:\n",
    "                kw_generated = kw_model.extract_keywords(video['generated'], keyphrase_ngram_range=ngram_range, top_n=topn, stop_words='english')\n",
    "                l_generated = [i[0] for i in kw_generated]\n",
    "            if 'metadata' in video.keys():\n",
    "                metadata = video['metadata']\n",
    "                metadata['kw'] = {\n",
    "                    'generated': l_generated,\n",
    "                    'manual': l_manual\n",
    "                }\n",
    "            else:\n",
    "                metadata = {\n",
    "                    'videoId': video['videoId'],\n",
    "                    'kw': {\n",
    "                        'generated': l_generated,\n",
    "                        'manual': l_manual\n",
    "                    }\n",
    "                }\n",
    "            kw_data[channel].append(\n",
    "                {\n",
    "                    'metadata': metadata,\n",
    "                    'manual': video['manual'],\n",
    "                    'generated': video['generated']\n",
    "                }\n",
    "            )\n",
    "    return kw_data"
   ]
  },
  {
   "cell_type": "code",
   "execution_count": 35,
   "metadata": {},
   "outputs": [],
   "source": [
    "# Transcripts\n",
    "kw_transcripts_4o = find_kw(combined_transcripts_4o)\n",
    "kw_transcripts_4 = find_kw(combined_transcripts_4)"
   ]
  },
  {
   "cell_type": "code",
   "execution_count": 37,
   "metadata": {},
   "outputs": [],
   "source": [
    "# Ads\n",
    "kw_ads_4o = find_kw(combined_ads_4o)\n",
    "kw_ads_4 = find_kw(combined_ads_4)"
   ]
  },
  {
   "cell_type": "code",
   "execution_count": 38,
   "metadata": {},
   "outputs": [],
   "source": [
    "# Save processed to json file\n",
    "with open('/workspaces/youtube-ad-detection/data/kw_transcripts_gpt4o.json', 'w') as f:\n",
    "    json.dump(kw_transcripts_4o, f, indent=4)\n",
    "with open('/workspaces/youtube-ad-detection/data/kw_ads_gpt4o.json', 'w') as f:\n",
    "    json.dump(kw_ads_4o, f, indent=4)"
   ]
  },
  {
   "cell_type": "code",
   "execution_count": 39,
   "metadata": {},
   "outputs": [],
   "source": [
    "# Save processed to json file\n",
    "with open('/workspaces/youtube-ad-detection/data/kw_transcripts_gpt4.json', 'w') as f:\n",
    "    json.dump(kw_transcripts_4, f, indent=4)\n",
    "with open('/workspaces/youtube-ad-detection/data/kw_ads_gpt4.json', 'w') as f:\n",
    "    json.dump(kw_ads_4, f, indent=4)"
   ]
  },
  {
   "cell_type": "code",
   "execution_count": null,
   "metadata": {},
   "outputs": [],
   "source": []
  }
 ],
 "metadata": {
  "kernelspec": {
   "display_name": "Python 3",
   "language": "python",
   "name": "python3"
  },
  "language_info": {
   "codemirror_mode": {
    "name": "ipython",
    "version": 3
   },
   "file_extension": ".py",
   "mimetype": "text/x-python",
   "name": "python",
   "nbconvert_exporter": "python",
   "pygments_lexer": "ipython3",
   "version": "3.12.5"
  }
 },
 "nbformat": 4,
 "nbformat_minor": 2
}
