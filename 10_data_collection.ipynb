{
 "cells": [
  {
   "cell_type": "markdown",
   "id": "fbc7fdb8",
   "metadata": {},
   "source": [
    "# Data Collection"
   ]
  },
  {
   "cell_type": "code",
   "execution_count": 4,
   "id": "453b6109-b3af-42e2-ba8c-9a53a2be3913",
   "metadata": {
    "tags": []
   },
   "outputs": [],
   "source": [
    "import asyncio\n",
    "import json\n",
    "import random\n",
    "import re\n",
    "import time\n",
    "from apism import YouTubeAPI\n",
    "\n",
    "from keys import key\n",
    "from functions import *"
   ]
  },
  {
   "cell_type": "markdown",
   "id": "d6739cae",
   "metadata": {},
   "source": [
    "## Search and Video Data"
   ]
  },
  {
   "cell_type": "code",
   "execution_count": 49,
   "id": "34aca088-99e9-4d4b-9cf5-061132d2353e",
   "metadata": {
    "tags": []
   },
   "outputs": [],
   "source": [
    "# Set query and parameters\n",
    "params = {\n",
    "    'search': {\n",
    "        'part': 'snippet',\n",
    "        'type': 'video',\n",
    "        'maxResults': 50,\n",
    "        'relevanceLanguage': 'en'\n",
    "    },\n",
    "    'videos': {\n",
    "        'part': 'id,statistics,topicDetails'\n",
    "    }\n",
    "}\n",
    "bucket_name = 'youtube-data-api'"
   ]
  },
  {
   "cell_type": "code",
   "execution_count": null,
   "id": "7f6a5713",
   "metadata": {},
   "outputs": [],
   "source": [
    "async def collect_data(query):\n",
    "    yt = YouTubeAPI(api_key=key, params=params)\n",
    "    await yt.search(query)\n",
    "    await yt.videos()\n",
    "    \n",
    "    return yt"
   ]
  },
  {
   "cell_type": "code",
   "execution_count": 10,
   "id": "eac1612c-ec65-409e-ae74-d4b143697b6b",
   "metadata": {
    "tags": []
   },
   "outputs": [],
   "source": [
    "scishow_videos = await collect_data('Scishow')"
   ]
  },
  {
   "cell_type": "code",
   "execution_count": 14,
   "id": "7bbab48c-0b68-4fd8-9d21-8da3c4d09df6",
   "metadata": {
    "tags": []
   },
   "outputs": [],
   "source": [
    "jh_videos = await collect_data('johnny harris')"
   ]
  },
  {
   "cell_type": "code",
   "execution_count": 16,
   "id": "aea34c05-aaa8-49a6-ab04-841117aa64ec",
   "metadata": {
    "tags": []
   },
   "outputs": [],
   "source": [
    "pbs_videos = await collect_data('pbs space time')"
   ]
  },
  {
   "cell_type": "code",
   "execution_count": 17,
   "id": "130a3ae8-7daf-406f-95f8-6288dca9b4b3",
   "metadata": {
    "tags": []
   },
   "outputs": [],
   "source": [
    "_3b1b_videos = await collect_data('3blue1brown')"
   ]
  },
  {
   "cell_type": "code",
   "execution_count": 18,
   "id": "b295ee98-09ea-4958-8186-974eae69ca6a",
   "metadata": {
    "tags": []
   },
   "outputs": [],
   "source": [
    "Damilee = await collect_data('Damilee')"
   ]
  },
  {
   "cell_type": "code",
   "execution_count": 19,
   "id": "5bf2135e-4164-4686-a2d6-df5c9284dae6",
   "metadata": {
    "tags": []
   },
   "outputs": [],
   "source": [
    "Fireship = await collect_data('Fireship')"
   ]
  },
  {
   "cell_type": "code",
   "execution_count": 20,
   "id": "8f22ec28-72f4-4097-b25a-0b73994afdaa",
   "metadata": {
    "tags": []
   },
   "outputs": [
    {
     "name": "stdout",
     "output_type": "stream",
     "text": [
      "------ ADS ------\n",
      "SciShow : 541\n",
      "Johnny Harris : 594\n",
      "PBS Space Time : 590\n",
      "------ NO ADS ------\n",
      "3blue1brown : 560\n",
      "Dami Lee : 496\n",
      "Fireship : 572\n"
     ]
    }
   ],
   "source": [
    "print(f\"------ ADS ------\")\n",
    "print(f\"SciShow : {len(scishow_videos.results['videos'])}\")\n",
    "print(f\"Johnny Harris : {len(jh_videos.results['videos'])}\")\n",
    "print(f\"PBS Space Time : {len(pbs_videos.results['videos'])}\")\n",
    "print(f\"------ NO ADS ------\")\n",
    "print(f\"3blue1brown : {len(_3b1b_videos.results['videos'])}\")\n",
    "print(f\"Dami Lee : {len(Damilee.results['videos'])}\")\n",
    "print(f\"Fireship : {len(Fireship.results['videos'])}\")"
   ]
  },
  {
   "cell_type": "code",
   "execution_count": 35,
   "id": "f3ef8a49-e3e0-4a1f-a44b-029cb0f9deac",
   "metadata": {
    "tags": []
   },
   "outputs": [],
   "source": [
    "# Clean and get proper channel names only\n",
    "videoIDs = {}\n",
    "for yt_api, name in zip(\n",
    "    [scishow_videos, jh_videos, pbs_videos, _3b1b_videos, Damilee, Fireship],\n",
    "    ['SciShow', 'Johnny Harris', 'PBS Space Time', '3Blue1Brown', 'DamiLee', 'Fireship']\n",
    "    ):\n",
    "    videoIDs[name] = [i['id']['videoId'] for i in yt_api.results['search'] if i['snippet']['channelTitle']==name]"
   ]
  },
  {
   "cell_type": "code",
   "execution_count": 38,
   "id": "0c227ca5-2b30-4fb1-b2e8-9f35c86965e0",
   "metadata": {
    "tags": []
   },
   "outputs": [
    {
     "name": "stdout",
     "output_type": "stream",
     "text": [
      "SciShow: 363\n",
      "Johnny Harris: 178\n",
      "PBS Space Time: 355\n",
      "3Blue1Brown: 139\n",
      "DamiLee: 189\n",
      "Fireship: 317\n"
     ]
    }
   ],
   "source": [
    "for i in ['SciShow', 'Johnny Harris', 'PBS Space Time', '3Blue1Brown', 'DamiLee', 'Fireship']:\n",
    "    print(f\"{i}: {len(videoIDs[i])}\")"
   ]
  },
  {
   "cell_type": "code",
   "execution_count": 50,
   "id": "f70a57b0-9008-4abc-a0d3-46f73198b831",
   "metadata": {
    "tags": []
   },
   "outputs": [],
   "source": [
    "# Upload to GCS\n",
    "for yt_api, name in zip(\n",
    "    [scishow_videos, jh_videos, pbs_videos, _3b1b_videos, Damilee, Fireship],\n",
    "    ['SciShow', 'Johnny Harris', 'PBS Space Time', '3Blue1Brown', 'DamiLee', 'Fireship']\n",
    "    ):\n",
    "    \n",
    "    data = {\n",
    "        'search': [i for i in yt_api.results['search'] if i['id']['videoId'] in videoIDs[name]],\n",
    "        'videos': [i for i in yt_api.results['videos'] if i['id'] in videoIDs[name]]\n",
    "    }\n",
    "    \n",
    "    # Writing to a JSON file\n",
    "    with open(f'{name}.json', 'w') as json_file:\n",
    "        json.dump(data, json_file, indent=4)\n",
    "    \n",
    "    upload_and_delete_local_file(bucket_name, f'{name}.json', f'youtube-ads/{name}.json')"
   ]
  },
  {
   "cell_type": "code",
   "execution_count": 63,
   "id": "bce45a07-6579-4963-974d-e72526471396",
   "metadata": {
    "tags": []
   },
   "outputs": [],
   "source": [
    "# Sample 50 videos from each channel\n",
    "sampled_IDs = {}\n",
    "for yt_api, name in zip(\n",
    "    [scishow_videos, jh_videos, pbs_videos, _3b1b_videos, Damilee, Fireship],\n",
    "    ['SciShow', 'Johnny Harris', 'PBS Space Time', '3Blue1Brown', 'DamiLee', 'Fireship']\n",
    "    ):\n",
    "    \n",
    "    sampled_IDs[name] = random.sample([i['id'] for i in yt_api.results['videos'] if i['id'] in videoIDs[name]], 50)\n",
    "\n",
    "with open(f'sampledIDs.json', 'w') as json_file:\n",
    "    json.dump(sampled_IDs, json_file, indent=4)\n",
    "    \n",
    "upload_and_delete_local_file(bucket_name, f'sampledIDs.json', f'youtube-ads/sampledIDs.json')"
   ]
  },
  {
   "cell_type": "markdown",
   "id": "28676279",
   "metadata": {},
   "source": [
    "## Collect Transcripts"
   ]
  },
  {
   "cell_type": "code",
   "execution_count": 72,
   "id": "3c7fa234-9b15-4bd5-a75b-080e0d7d4f72",
   "metadata": {
    "tags": []
   },
   "outputs": [],
   "source": [
    "transcripts = {}\n",
    "for yt_api, name in zip(\n",
    "    [scishow_videos, jh_videos, pbs_videos, _3b1b_videos, Damilee, Fireship],\n",
    "    ['SciShow', 'Johnny Harris', 'PBS Space Time', '3Blue1Brown', 'DamiLee', 'Fireship']\n",
    "    ):\n",
    "    \n",
    "    transcripts[name] = await transcript(sampled_IDs[name])"
   ]
  },
  {
   "cell_type": "code",
   "execution_count": 74,
   "id": "4c0def16-1c4e-4d4d-b382-a8b4c0dc2115",
   "metadata": {
    "tags": []
   },
   "outputs": [],
   "source": [
    "# Upload transcripts to GCS\n",
    "with open(f'transcripts.json', 'w') as json_file:\n",
    "    json.dump(transcripts, json_file, indent=4)\n",
    "\n",
    "upload_and_delete_local_file(bucket_name, f'transcripts.json', f'youtube-ads/transcripts.json')"
   ]
  },
  {
   "cell_type": "code",
   "execution_count": 93,
   "id": "1d65f093-7212-4f5b-b197-de25da69327d",
   "metadata": {
    "tags": []
   },
   "outputs": [
    {
     "name": "stdout",
     "output_type": "stream",
     "text": [
      "SciShow: Generated = 47 Manual = 28\n",
      "Johnny Harris: Generated = 48 Manual = 44\n",
      "PBS Space Time: Generated = 44 Manual = 48\n",
      "3Blue1Brown: Generated = 9 Manual = 49\n",
      "DamiLee: Generated = 48 Manual = 9\n",
      "Fireship: Generated = 47 Manual = 0\n"
     ]
    }
   ],
   "source": [
    "for name in ['SciShow', 'Johnny Harris', 'PBS Space Time', '3Blue1Brown', 'DamiLee', 'Fireship']:\n",
    "    print(f\"{name}: Generated = {len([i['generated'] for i in transcripts[name] if i and i.get('generated')])} Manual = {len([i['manual'] for i in transcripts[name] if i and i.get('manual')])}\")"
   ]
  }
 ],
 "metadata": {
  "environment": {
   "kernel": "conda-base-py",
   "name": "workbench-notebooks.m125",
   "type": "gcloud",
   "uri": "us-docker.pkg.dev/deeplearning-platform-release/gcr.io/workbench-notebooks:m125"
  },
  "kernelspec": {
   "display_name": "Python 3",
   "language": "python",
   "name": "python3"
  },
  "language_info": {
   "codemirror_mode": {
    "name": "ipython",
    "version": 3
   },
   "file_extension": ".py",
   "mimetype": "text/x-python",
   "name": "python",
   "nbconvert_exporter": "python",
   "pygments_lexer": "ipython3",
   "version": "3.12.5"
  }
 },
 "nbformat": 4,
 "nbformat_minor": 5
}
