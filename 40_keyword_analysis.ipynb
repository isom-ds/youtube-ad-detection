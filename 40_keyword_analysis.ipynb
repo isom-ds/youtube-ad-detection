{
 "cells": [
  {
   "cell_type": "markdown",
   "metadata": {},
   "source": [
    "# Thematic Analysis"
   ]
  },
  {
   "cell_type": "code",
   "execution_count": 1,
   "metadata": {},
   "outputs": [],
   "source": [
    "import json\n",
    "import pandas as pd\n",
    "import numpy as np\n",
    "from bertopic import BERTopic\n",
    "\n",
    "from functions import load_json, convert_to_df"
   ]
  },
  {
   "cell_type": "code",
   "execution_count": 2,
   "metadata": {},
   "outputs": [],
   "source": [
    "# Load json file from data folder\n",
    "transcripts_4o = load_json('/workspaces/youtube-ad-detection/data/kw_gpt_transcripts_gpt4o.json')\n",
    "transcripts_4 = load_json('/workspaces/youtube-ad-detection/data/kw_gpt_transcripts_gpt4.json')\n",
    "\n",
    "ads_4o = load_json('/workspaces/youtube-ad-detection/data/kw_gpt_ads_gpt4o.json')\n",
    "ads_4 = load_json('/workspaces/youtube-ad-detection/data/kw_gpt_ads_gpt4.json')"
   ]
  },
  {
   "cell_type": "markdown",
   "metadata": {},
   "source": [
    "## GPT-4o"
   ]
  },
  {
   "cell_type": "code",
   "execution_count": 109,
   "metadata": {},
   "outputs": [],
   "source": [
    "transcripts_4o_kw_generated = convert_to_df(transcripts_4o)\n",
    "ads_4o_kw_generated = convert_to_df(ads_4o)\n",
    "\n",
    "df_4o = pd.merge(transcripts_4o_kw_generated, ads_4o_kw_generated, on=['video_id'], how='left').replace({None: np.nan})"
   ]
  },
  {
   "cell_type": "code",
   "execution_count": 83,
   "metadata": {},
   "outputs": [
    {
     "data": {
      "text/html": [
       "<div>\n",
       "<style scoped>\n",
       "    .dataframe tbody tr th:only-of-type {\n",
       "        vertical-align: middle;\n",
       "    }\n",
       "\n",
       "    .dataframe tbody tr th {\n",
       "        vertical-align: top;\n",
       "    }\n",
       "\n",
       "    .dataframe thead th {\n",
       "        text-align: right;\n",
       "    }\n",
       "</style>\n",
       "<table border=\"1\" class=\"dataframe\">\n",
       "  <thead>\n",
       "    <tr style=\"text-align: right;\">\n",
       "      <th></th>\n",
       "      <th>Topic</th>\n",
       "      <th>Count</th>\n",
       "      <th>Name</th>\n",
       "      <th>Representation</th>\n",
       "      <th>Representative_Docs</th>\n",
       "    </tr>\n",
       "  </thead>\n",
       "  <tbody>\n",
       "    <tr>\n",
       "      <th>0</th>\n",
       "      <td>-1</td>\n",
       "      <td>63</td>\n",
       "      <td>-1_quantum_cancer_probability_pregnancy</td>\n",
       "      <td>[quantum, cancer, probability, pregnancy, japa...</td>\n",
       "      <td>[probability cancer, probability cancer, proba...</td>\n",
       "    </tr>\n",
       "    <tr>\n",
       "      <th>1</th>\n",
       "      <td>0</td>\n",
       "      <td>69</td>\n",
       "      <td>0_architecture_design_development_career</td>\n",
       "      <td>[architecture, design, development, career, pr...</td>\n",
       "      <td>[skill development architecture career, archit...</td>\n",
       "    </tr>\n",
       "    <tr>\n",
       "      <th>2</th>\n",
       "      <td>1</td>\n",
       "      <td>49</td>\n",
       "      <td>1_universe_space_cosmic_hawking</td>\n",
       "      <td>[universe, space, cosmic, hawking, time, matte...</td>\n",
       "      <td>[time space reality experience universe, expan...</td>\n",
       "    </tr>\n",
       "    <tr>\n",
       "      <th>3</th>\n",
       "      <td>2</td>\n",
       "      <td>32</td>\n",
       "      <td>2_land_conflict_war_banana</td>\n",
       "      <td>[land, conflict, war, banana, iceland, canada,...</td>\n",
       "      <td>[georgia russia relations georgia land path, i...</td>\n",
       "    </tr>\n",
       "    <tr>\n",
       "      <th>4</th>\n",
       "      <td>3</td>\n",
       "      <td>18</td>\n",
       "      <td>3_fish_characteristics_food_jellyfish</td>\n",
       "      <td>[fish, characteristics, food, jellyfish, prefe...</td>\n",
       "      <td>[turtle food preference, turtle food preferenc...</td>\n",
       "    </tr>\n",
       "    <tr>\n",
       "      <th>5</th>\n",
       "      <td>4</td>\n",
       "      <td>17</td>\n",
       "      <td>4_javascript_typescript_rocket_react</td>\n",
       "      <td>[javascript, typescript, rocket, react, propul...</td>\n",
       "      <td>[rocket types rocket propulsion, rocket types ...</td>\n",
       "    </tr>\n",
       "    <tr>\n",
       "      <th>6</th>\n",
       "      <td>5</td>\n",
       "      <td>12</td>\n",
       "      <td>5_hash_billion_cryptocurrency_magnet</td>\n",
       "      <td>[hash, billion, cryptocurrency, magnet, vitali...</td>\n",
       "      <td>[billion hash, billion hash, billion hash]</td>\n",
       "    </tr>\n",
       "    <tr>\n",
       "      <th>7</th>\n",
       "      <td>6</td>\n",
       "      <td>12</td>\n",
       "      <td>6_operations_circle_calculation_average</td>\n",
       "      <td>[operations, circle, calculation, average, orb...</td>\n",
       "      <td>[circle operations, circle operations, circle ...</td>\n",
       "    </tr>\n",
       "    <tr>\n",
       "      <th>8</th>\n",
       "      <td>7</td>\n",
       "      <td>12</td>\n",
       "      <td>7_music_surreal_math_joma</td>\n",
       "      <td>[music, surreal, math, joma, magnetism, magnet...</td>\n",
       "      <td>[music surreal math, music surreal math, music...</td>\n",
       "    </tr>\n",
       "    <tr>\n",
       "      <th>9</th>\n",
       "      <td>8</td>\n",
       "      <td>11</td>\n",
       "      <td>8_transformations_linear_conceptualize_vector</td>\n",
       "      <td>[transformations, linear, conceptualize, vecto...</td>\n",
       "      <td>[linear transformations conceptualize transfor...</td>\n",
       "    </tr>\n",
       "  </tbody>\n",
       "</table>\n",
       "</div>"
      ],
      "text/plain": [
       "   Topic  Count                                           Name  \\\n",
       "0     -1     63        -1_quantum_cancer_probability_pregnancy   \n",
       "1      0     69       0_architecture_design_development_career   \n",
       "2      1     49                1_universe_space_cosmic_hawking   \n",
       "3      2     32                     2_land_conflict_war_banana   \n",
       "4      3     18          3_fish_characteristics_food_jellyfish   \n",
       "5      4     17           4_javascript_typescript_rocket_react   \n",
       "6      5     12           5_hash_billion_cryptocurrency_magnet   \n",
       "7      6     12        6_operations_circle_calculation_average   \n",
       "8      7     12                      7_music_surreal_math_joma   \n",
       "9      8     11  8_transformations_linear_conceptualize_vector   \n",
       "\n",
       "                                      Representation  \\\n",
       "0  [quantum, cancer, probability, pregnancy, japa...   \n",
       "1  [architecture, design, development, career, pr...   \n",
       "2  [universe, space, cosmic, hawking, time, matte...   \n",
       "3  [land, conflict, war, banana, iceland, canada,...   \n",
       "4  [fish, characteristics, food, jellyfish, prefe...   \n",
       "5  [javascript, typescript, rocket, react, propul...   \n",
       "6  [hash, billion, cryptocurrency, magnet, vitali...   \n",
       "7  [operations, circle, calculation, average, orb...   \n",
       "8  [music, surreal, math, joma, magnetism, magnet...   \n",
       "9  [transformations, linear, conceptualize, vecto...   \n",
       "\n",
       "                                 Representative_Docs  \n",
       "0  [probability cancer, probability cancer, proba...  \n",
       "1  [skill development architecture career, archit...  \n",
       "2  [time space reality experience universe, expan...  \n",
       "3  [georgia russia relations georgia land path, i...  \n",
       "4  [turtle food preference, turtle food preferenc...  \n",
       "5  [rocket types rocket propulsion, rocket types ...  \n",
       "6         [billion hash, billion hash, billion hash]  \n",
       "7  [circle operations, circle operations, circle ...  \n",
       "8  [music surreal math, music surreal math, music...  \n",
       "9  [linear transformations conceptualize transfor...  "
      ]
     },
     "execution_count": 83,
     "metadata": {},
     "output_type": "execute_result"
    }
   ],
   "source": [
    "topic_model4o = BERTopic()\n",
    "topics4o, probs4o = topic_model4o.fit_transform(df_4o['gpt_generated_x'].dropna().str.join(' '))\n",
    "topic_model_output4o = topic_model4o.get_topic_info()\n",
    "topic_model_output4o"
   ]
  },
  {
   "cell_type": "code",
   "execution_count": 84,
   "metadata": {},
   "outputs": [
    {
     "data": {
      "text/html": [
       "<div>\n",
       "<style scoped>\n",
       "    .dataframe tbody tr th:only-of-type {\n",
       "        vertical-align: middle;\n",
       "    }\n",
       "\n",
       "    .dataframe tbody tr th {\n",
       "        vertical-align: top;\n",
       "    }\n",
       "\n",
       "    .dataframe thead th {\n",
       "        text-align: right;\n",
       "    }\n",
       "</style>\n",
       "<table border=\"1\" class=\"dataframe\">\n",
       "  <thead>\n",
       "    <tr style=\"text-align: right;\">\n",
       "      <th></th>\n",
       "      <th>Topic</th>\n",
       "      <th>Count</th>\n",
       "      <th>Name</th>\n",
       "      <th>Representation</th>\n",
       "      <th>Representative_Docs</th>\n",
       "    </tr>\n",
       "  </thead>\n",
       "  <tbody>\n",
       "    <tr>\n",
       "      <th>0</th>\n",
       "      <td>-1</td>\n",
       "      <td>43</td>\n",
       "      <td>-1_therapy_services_products_shaving</td>\n",
       "      <td>[therapy, services, products, shaving, therapi...</td>\n",
       "      <td>[therapy, therapy services therapist selection...</td>\n",
       "    </tr>\n",
       "    <tr>\n",
       "      <th>1</th>\n",
       "      <td>0</td>\n",
       "      <td>42</td>\n",
       "      <td>0_learning_education_course_skillshare</td>\n",
       "      <td>[learning, education, course, skillshare, scie...</td>\n",
       "      <td>[sketching education online learning, data cou...</td>\n",
       "    </tr>\n",
       "    <tr>\n",
       "      <th>2</th>\n",
       "      <td>1</td>\n",
       "      <td>27</td>\n",
       "      <td>1_video_pbs_content_nebula</td>\n",
       "      <td>[video, pbs, content, nebula, platform, spacet...</td>\n",
       "      <td>[nebula content nebula platform, video content...</td>\n",
       "    </tr>\n",
       "    <tr>\n",
       "      <th>3</th>\n",
       "      <td>2</td>\n",
       "      <td>11</td>\n",
       "      <td>2_rock_subscription_mineral_sign</td>\n",
       "      <td>[rock, subscription, mineral, sign, membership...</td>\n",
       "      <td>[rock subscription rock sign mineral, rock sub...</td>\n",
       "    </tr>\n",
       "  </tbody>\n",
       "</table>\n",
       "</div>"
      ],
      "text/plain": [
       "   Topic  Count                                    Name  \\\n",
       "0     -1     43    -1_therapy_services_products_shaving   \n",
       "1      0     42  0_learning_education_course_skillshare   \n",
       "2      1     27              1_video_pbs_content_nebula   \n",
       "3      2     11        2_rock_subscription_mineral_sign   \n",
       "\n",
       "                                      Representation  \\\n",
       "0  [therapy, services, products, shaving, therapi...   \n",
       "1  [learning, education, course, skillshare, scie...   \n",
       "2  [video, pbs, content, nebula, platform, spacet...   \n",
       "3  [rock, subscription, mineral, sign, membership...   \n",
       "\n",
       "                                 Representative_Docs  \n",
       "0  [therapy, therapy services therapist selection...  \n",
       "1  [sketching education online learning, data cou...  \n",
       "2  [nebula content nebula platform, video content...  \n",
       "3  [rock subscription rock sign mineral, rock sub...  "
      ]
     },
     "execution_count": 84,
     "metadata": {},
     "output_type": "execute_result"
    }
   ],
   "source": [
    "ads_topic_model4o = BERTopic()\n",
    "ads_topics4o, ads_probs4o = ads_topic_model4o.fit_transform(df_4o['gpt_generated_y'].dropna().str.join(' '))\n",
    "ads_topic_model_output4o = ads_topic_model4o.get_topic_info()\n",
    "ads_topic_model_output4o"
   ]
  },
  {
   "cell_type": "code",
   "execution_count": 86,
   "metadata": {},
   "outputs": [],
   "source": [
    "topic_model_output4o.to_excel('data/TopicModel4o.xlsx', index=False)\n",
    "ads_topic_model_output4o.to_excel('data/TopicModelAds4o.xlsx', index=False)"
   ]
  },
  {
   "cell_type": "code",
   "execution_count": 90,
   "metadata": {},
   "outputs": [],
   "source": [
    "df_topics = topic_model4o.get_document_info(df_4o['gpt_generated_x'].dropna().str.join(' '))"
   ]
  },
  {
   "cell_type": "code",
   "execution_count": 91,
   "metadata": {},
   "outputs": [],
   "source": [
    "df_ads = ads_topic_model4o.get_document_info(df_4o['gpt_generated_y'].dropna().str.join(' '))"
   ]
  },
  {
   "cell_type": "code",
   "execution_count": 101,
   "metadata": {},
   "outputs": [],
   "source": [
    "transcript_mapping = pd.read_excel('data/TopicModel4o consolidated.xlsx', sheet_name='transcript')\n",
    "ad_mapping = pd.read_excel('data/TopicModel4o consolidated.xlsx', sheet_name='ads')"
   ]
  },
  {
   "cell_type": "code",
   "execution_count": 110,
   "metadata": {},
   "outputs": [],
   "source": [
    "df_4o['transcript_topics'] = df_4o['gpt_generated_x'].str.join(' ')\n",
    "df_4o['ad_topics'] = df_4o['gpt_generated_y'].str.join(' ')\n",
    "df_4o = pd.merge(df_4o, df_topics[['Document', 'Topic']], left_on ='transcript_topics', right_on='Document', how='left')\n",
    "df_4o = pd.merge(df_4o, df_ads[['Document', 'Topic']], left_on ='ad_topics', right_on='Document', how='left')\n",
    "df_4o = pd.merge(df_4o, transcript_mapping[['Label', 'Topic']], left_on ='Topic_x', right_on='Topic', how='left', suffixes=('_x1', '_y1'))\n",
    "df_4o = pd.merge(df_4o, ad_mapping[['Label', 'Topic']], left_on ='Topic_y', right_on='Topic', how='left', suffixes=('_x2', '_y2'))"
   ]
  },
  {
   "cell_type": "code",
   "execution_count": 112,
   "metadata": {},
   "outputs": [],
   "source": [
    "df_4o.to_excel('data/TopicModel4oLabelled.xlsx', index=False)"
   ]
  },
  {
   "cell_type": "code",
   "execution_count": 117,
   "metadata": {},
   "outputs": [
    {
     "name": "stdout",
     "output_type": "stream",
     "text": [
      "KeyBERT: 3103\n",
      "ChatGPT: 1241\n"
     ]
    }
   ],
   "source": [
    "print(f\"KeyBERT: {len(sum(df_4o['kw_generated_x'].dropna(), []))}\")\n",
    "print(f\"ChatGPT: {len(sum(df_4o['gpt_generated_x'].dropna(), []))}\")"
   ]
  },
  {
   "cell_type": "code",
   "execution_count": 119,
   "metadata": {},
   "outputs": [
    {
     "name": "stdout",
     "output_type": "stream",
     "text": [
      "KeyBERT: 1020\n",
      "ChatGPT: 377\n"
     ]
    }
   ],
   "source": [
    "print(f\"KeyBERT: {len(sum(df_4o['kw_generated_y'].dropna(), []))}\")\n",
    "print(f\"ChatGPT: {len(sum(df_4o['gpt_generated_y'].dropna(), []))}\")"
   ]
  },
  {
   "cell_type": "markdown",
   "metadata": {},
   "source": [
    "## GPT-4"
   ]
  },
  {
   "cell_type": "code",
   "execution_count": 54,
   "metadata": {},
   "outputs": [],
   "source": [
    "transcripts_4_kw_generated = convert_to_df(transcripts_4)\n",
    "ads_4_kw_generated = convert_to_df(ads_4)\n",
    "\n",
    "df_4 = pd.merge(transcripts_4_kw_generated, ads_4_kw_generated, on=['video_id'], how='left').replace({None: np.nan})"
   ]
  },
  {
   "cell_type": "code",
   "execution_count": null,
   "metadata": {},
   "outputs": [],
   "source": []
  }
 ],
 "metadata": {
  "kernelspec": {
   "display_name": "Python 3",
   "language": "python",
   "name": "python3"
  },
  "language_info": {
   "codemirror_mode": {
    "name": "ipython",
    "version": 3
   },
   "file_extension": ".py",
   "mimetype": "text/x-python",
   "name": "python",
   "nbconvert_exporter": "python",
   "pygments_lexer": "ipython3",
   "version": "3.12.5"
  }
 },
 "nbformat": 4,
 "nbformat_minor": 2
}
