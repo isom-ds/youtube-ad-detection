{
 "cells": [
  {
   "cell_type": "markdown",
   "metadata": {},
   "source": [
    "# Ad Detection"
   ]
  },
  {
   "cell_type": "code",
   "execution_count": 1,
   "metadata": {},
   "outputs": [],
   "source": [
    "import asyncio\n",
    "import json\n",
    "from time import sleep\n",
    "\n",
    "from openai import AsyncOpenAI\n",
    "\n",
    "from prompts import find_ad\n",
    "from keys import openai_key\n",
    "\n",
    "client = AsyncOpenAI(api_key=openai_key)"
   ]
  },
  {
   "cell_type": "code",
   "execution_count": 2,
   "metadata": {},
   "outputs": [],
   "source": [
    "# Load json file from data folder\n",
    "with open('/workspaces/youtube-ad-detection/data/transcripts.json') as f:\n",
    "    transcripts = json.load(f)"
   ]
  },
  {
   "cell_type": "code",
   "execution_count": 3,
   "metadata": {},
   "outputs": [],
   "source": [
    "async def find_ads(model, system_prompt, content, type):\n",
    "    system_msg = [{\"role\": \"system\", \"content\": system_prompt}]\n",
    "\n",
    "    user_assistant_msgs = [\n",
    "        {   \"role\": \"user\",\n",
    "            \"content\": json.dumps(content[type], indent=2)\n",
    "        }\n",
    "    ]\n",
    "\n",
    "    msgs = system_msg + user_assistant_msgs\n",
    "\n",
    "    response = await client.chat.completions.create(\n",
    "                model=model,\n",
    "                messages=msgs,\n",
    "                temperature=0\n",
    "                )\n",
    "\n",
    "    try:\n",
    "        output = json.loads(response.choices[0].message.content)\n",
    "        return {\n",
    "            'videoId': content['videoId'],\n",
    "            'ad' : output\n",
    "        }\n",
    "    except:\n",
    "        return {\n",
    "            'videoId': content['videoId'],\n",
    "            'ad' : str(response.choices[0].message.content)\n",
    "        }"
   ]
  },
  {
   "cell_type": "code",
   "execution_count": 4,
   "metadata": {},
   "outputs": [],
   "source": [
    "async def process_all_contents(model, system_prompt, all_content, type, max_concurrent_tasks=10):\n",
    "    # Create a semaphore to control concurrency\n",
    "    semaphore = asyncio.Semaphore(max_concurrent_tasks)\n",
    "    \n",
    "    # Define an async function to wrap find_ads and include semaphore control\n",
    "    async def process_single_content(content):\n",
    "        async with semaphore:\n",
    "            return await find_ads(model, system_prompt, content, type)\n",
    "    \n",
    "    # List to hold the tasks\n",
    "    tasks = []\n",
    "    results = []\n",
    "\n",
    "    for index, value in enumerate(all_content):\n",
    "        tasks.append(asyncio.create_task(process_single_content(value)))\n",
    "        \n",
    "        # If we've reached the batch size or the end of the list, wait for the current batch to finish\n",
    "        if (index + 1) % max_concurrent_tasks == 0 or (index + 1) == len(all_content):\n",
    "            batch_results = await asyncio.gather(*tasks)\n",
    "            results.extend(batch_results)\n",
    "            tasks.clear()  # Clear the task list for the next batch\n",
    "\n",
    "            # Introduce delay after processing each batch, except after the final batch\n",
    "            if (index + 1) < len(all_content):\n",
    "                await asyncio.sleep(5)\n",
    "\n",
    "    return results"
   ]
  },
  {
   "cell_type": "markdown",
   "metadata": {},
   "source": [
    "## gpt-4o-2024-08-06"
   ]
  },
  {
   "cell_type": "code",
   "execution_count": 10,
   "metadata": {},
   "outputs": [
    {
     "name": "stdout",
     "output_type": "stream",
     "text": [
      "Processing SciShow\n",
      "Processing Johnny Harris\n",
      "Processing PBS Space Time\n",
      "Processing 3Blue1Brown\n",
      "Processing DamiLee\n",
      "Processing Fireship\n"
     ]
    }
   ],
   "source": [
    "model = 'gpt-4o-2024-08-06'\n",
    "ads = {}\n",
    "for channel in transcripts.keys():\n",
    "    ads[channel] = {}\n",
    "    print(f\"Processing {channel}\")\n",
    "    for transcript_type in ['manual', 'generated']:\n",
    "        ads[channel][transcript_type] = await process_all_contents(model, find_ad, [i for i in transcripts[channel] if i], transcript_type)\n",
    "        sleep(5)"
   ]
  },
  {
   "cell_type": "code",
   "execution_count": 12,
   "metadata": {},
   "outputs": [],
   "source": [
    "# Save ads to json file\n",
    "with open('/workspaces/youtube-ad-detection/data/ads_gpt4o.json', 'w') as f:\n",
    "    json.dump(ads, f, indent=4)"
   ]
  },
  {
   "cell_type": "code",
   "execution_count": null,
   "metadata": {},
   "outputs": [],
   "source": [
    "# Save ads to json file\n",
    "with open('/workspaces/youtube-ad-detection/data/ads_gpt4o_mini.json', 'w') as f:\n",
    "    json.dump(ads_4o_mini, f, indent=4)"
   ]
  },
  {
   "cell_type": "markdown",
   "metadata": {},
   "source": [
    "## gpt-4-turbo-2024-04-09"
   ]
  },
  {
   "cell_type": "code",
   "execution_count": 6,
   "metadata": {},
   "outputs": [
    {
     "name": "stdout",
     "output_type": "stream",
     "text": [
      "Processing SciShow\n",
      "Processing Johnny Harris\n",
      "Processing PBS Space Time\n",
      "Processing 3Blue1Brown\n",
      "Processing DamiLee\n",
      "Processing Fireship\n"
     ]
    }
   ],
   "source": [
    "model = 'gpt-4-turbo-2024-04-09'\n",
    "ads_4 = {}\n",
    "for channel in transcripts.keys():\n",
    "    ads_4[channel] = {}\n",
    "    print(f\"Processing {channel}\")\n",
    "    for transcript_type in ['manual', 'generated']:\n",
    "        ads_4[channel][transcript_type] = await process_all_contents(model, find_ad, [i for i in transcripts[channel] if i], transcript_type)\n",
    "        sleep(5)"
   ]
  },
  {
   "cell_type": "code",
   "execution_count": 7,
   "metadata": {},
   "outputs": [],
   "source": [
    "# Save ads to json file\n",
    "with open('/workspaces/youtube-ad-detection/data/ads_gpt4.json', 'w') as f:\n",
    "    json.dump(ads_4, f, indent=4)"
   ]
  },
  {
   "cell_type": "code",
   "execution_count": null,
   "metadata": {},
   "outputs": [],
   "source": []
  }
 ],
 "metadata": {
  "kernelspec": {
   "display_name": "Python 3",
   "language": "python",
   "name": "python3"
  },
  "language_info": {
   "codemirror_mode": {
    "name": "ipython",
    "version": 3
   },
   "file_extension": ".py",
   "mimetype": "text/x-python",
   "name": "python",
   "nbconvert_exporter": "python",
   "pygments_lexer": "ipython3",
   "version": "3.12.5"
  }
 },
 "nbformat": 4,
 "nbformat_minor": 2
}
