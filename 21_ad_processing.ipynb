{
 "cells": [
  {
   "cell_type": "markdown",
   "metadata": {},
   "source": [
    "# Ad Processing"
   ]
  },
  {
   "cell_type": "code",
   "execution_count": 67,
   "metadata": {},
   "outputs": [],
   "source": [
    "import copy\n",
    "import json"
   ]
  },
  {
   "cell_type": "markdown",
   "metadata": {},
   "source": [
    "## Clean Transcripts"
   ]
  },
  {
   "cell_type": "code",
   "execution_count": 76,
   "metadata": {},
   "outputs": [],
   "source": [
    "# Load Transcripts\n",
    "with open('/workspaces/youtube-ad-detection/data/transcripts.json') as f:\n",
    "    transcripts = json.load(f)"
   ]
  },
  {
   "cell_type": "code",
   "execution_count": 77,
   "metadata": {},
   "outputs": [],
   "source": [
    "# Clean transcripts by removing \\xa0\\n\n",
    "cleaned_transcripts = copy.deepcopy(transcripts)\n",
    "for name, value in transcripts.items():\n",
    "    for video in value:\n",
    "        if video:\n",
    "            for transcript_type in ['generated', 'manual']:\n",
    "                if type(video[transcript_type]) == list:\n",
    "                    for item in video[transcript_type]:\n",
    "                        item['text'] = item['text'].replace('\\xa0\\n', ' ').replace('\\u2019', \"'\")"
   ]
  },
  {
   "cell_type": "markdown",
   "metadata": {},
   "source": [
    "## Process Ads\n",
    "### GPT-4o"
   ]
  },
  {
   "cell_type": "code",
   "execution_count": 70,
   "metadata": {},
   "outputs": [],
   "source": [
    "# Load Ad Data\n",
    "with open('/workspaces/youtube-ad-detection/data/ads_gpt4o.json') as f:\n",
    "    ads = json.load(f)"
   ]
  },
  {
   "cell_type": "code",
   "execution_count": 71,
   "metadata": {},
   "outputs": [],
   "source": [
    "# Find the ads with ad value as string\n",
    "string_errors = []\n",
    "for name, value in ads.items():\n",
    "    for transcript_type, videos in value.items():\n",
    "        for video in videos:\n",
    "            if type(video['ad'])==str and video['ad']!='None':\n",
    "                string_errors.append(video['ad'])"
   ]
  },
  {
   "cell_type": "code",
   "execution_count": 72,
   "metadata": {},
   "outputs": [],
   "source": [
    "# Fix errors\n",
    "cleaned_ads = {}\n",
    "# Loop through each ad\n",
    "for name, value in ads.items():\n",
    "    cleaned_ads[name] = {}\n",
    "    # Loop through each transcript type\n",
    "    for transcript_type, videos in value.items():\n",
    "        cleaned_ads[name][transcript_type] = []\n",
    "        # Loop through each video\n",
    "        for video in videos:\n",
    "            # If the ad is a string and not None\n",
    "            if type(video['ad'])==str and video['ad']!='None':\n",
    "                reformatted = video['ad']\\\n",
    "                                    .replace('```', '')\\\n",
    "                                    .replace('json', '')\\\n",
    "                                    .replace('\\n', '')\\\n",
    "                                    .replace(\"'text'\", '\"text\"')\\\n",
    "                                    .replace(\"'start'\", '\"start\"')\\\n",
    "                                    .replace(\"'duration'\", '\"duration\"')\\\n",
    "                                    .replace(\": '\", ': \"')\\\n",
    "                                    .replace(\"', \", '\", ')\\\n",
    "                                    .replace('],[', ',')\\\n",
    "                                    .replace('][', ',')\\\n",
    "                                    .replace('\\xa0\\n', ' ')\\\n",
    "                                    .replace('\\u2019', \"'\")\n",
    "                try:\n",
    "                    cleaned_ads[name][transcript_type].append(\n",
    "                        {   \n",
    "                            'videoId': video['videoId'],\n",
    "                            'ad': json.loads(reformatted)\n",
    "                        }\n",
    "                    )\n",
    "                except Exception as e:\n",
    "                    print(e)\n",
    "                    print(reformatted)\n",
    "            # If the ad is a string and is None\n",
    "            elif type(video['ad'])==str and video['ad']=='None':\n",
    "                pass\n",
    "            # If the ad is a list\n",
    "            else:\n",
    "                cleaned_ads[name][transcript_type].append(\n",
    "                    {   \n",
    "                        'videoId': video['videoId'],\n",
    "                        'ad': video['ad']\n",
    "                    }\n",
    "                )"
   ]
  },
  {
   "cell_type": "code",
   "execution_count": 73,
   "metadata": {},
   "outputs": [],
   "source": [
    "# Reshape\n",
    "reshaped_ads = {}\n",
    "# Loop through each ad\n",
    "for name, value in cleaned_ads.items():\n",
    "    reshaped_ads[name] = []\n",
    "    # Loop through each transcript type\n",
    "    for transcript_type, videos in value.items():\n",
    "        # Loop through each video\n",
    "        for video in videos:\n",
    "            # Check if dictionary with videoId exists\n",
    "            if video['videoId'] not in [x['videoId'] for x in reshaped_ads[name]]:\n",
    "                # If the video ID does not exist, add it\n",
    "                reshaped_ads[name].append(\n",
    "                    {\n",
    "                        'videoId': video['videoId'],\n",
    "                        transcript_type: video['ad']\n",
    "                    }\n",
    "                )\n",
    "                # else add the transcript to the dictionary\n",
    "            else:\n",
    "                for x in reshaped_ads[name]:\n",
    "                    if x['videoId']==video['videoId']:\n",
    "                        x[transcript_type] = video['ad']\n",
    "\n",
    "# Ensure manual and generated keys are in each dictionary\n",
    "for name, value in reshaped_ads.items():\n",
    "    for video in value:\n",
    "        if 'manual' not in video.keys():\n",
    "            video['manual'] = None\n",
    "        if 'generated' not in video.keys():\n",
    "            video['generated'] = None"
   ]
  },
  {
   "cell_type": "code",
   "execution_count": 74,
   "metadata": {},
   "outputs": [],
   "source": [
    "# For each transcript, check if it contains an ad by checking if the dictionary value from the ad data is in the transcript dictionaries\n",
    "processed_transcripts = {}\n",
    "# Loop through each channel\n",
    "for name, value in cleaned_transcripts.items():\n",
    "    processed_transcripts[name] = []\n",
    "    # Loop through each video\n",
    "    for video in value:\n",
    "        if video:\n",
    "            data = {\n",
    "                'metadata': {\n",
    "                    'videoId': video['videoId'],\n",
    "                    'contains_ad': False\n",
    "                },\n",
    "                'generated': video['generated'],\n",
    "                'manual': video['manual'],\n",
    "            }\n",
    "            # Find the corresponding video in the reshaped ads\n",
    "            for ad_video in reshaped_ads[name]:\n",
    "                if video['videoId']==ad_video['videoId']:\n",
    "                    # Loop through generated and manual transcripts\n",
    "                    for transcript_type in ['generated', 'manual']:\n",
    "                        if data[transcript_type] is not None and ad_video[transcript_type] is not None:\n",
    "                            # Loop through items in generated or manual transcript\n",
    "                            for item in data[transcript_type]:\n",
    "                                # Check if the item is in the ad dictionary\n",
    "                                if item['text'] in [i['text'] for i in ad_video[transcript_type]]:\n",
    "                                    item['ad'] = True\n",
    "                                    data['metadata']['contains_ad'] = True\n",
    "                                else:\n",
    "                                    item['ad'] = False\n",
    "            processed_transcripts[name].append(data)"
   ]
  },
  {
   "cell_type": "code",
   "execution_count": 75,
   "metadata": {},
   "outputs": [
    {
     "name": "stdout",
     "output_type": "stream",
     "text": [
      "SciShow: Generated = 23/47 (48.94%) Manual = 23/28 (82.14%) Difference = 0\n",
      "Johnny Harris: Generated = 42/48 (87.50%) Manual = 41/44 (93.18%) Difference = 1\n",
      "PBS Space Time: Generated = 20/44 (45.45%) Manual = 27/48 (56.25%) Difference = 7\n",
      "3Blue1Brown: Generated = 0/9 (0.00%) Manual = 3/49 (6.12%) Difference = 3\n",
      "DamiLee: Generated = 14/48 (29.17%) Manual = 7/9 (77.78%) Difference = 7\n",
      "Fireship: Generated = 10/47 (21.28%) Manual = 0/0 (0.00%) Difference = 10\n"
     ]
    }
   ],
   "source": [
    "for name in ['SciShow', 'Johnny Harris', 'PBS Space Time', '3Blue1Brown', 'DamiLee', 'Fireship']:\n",
    "    n_generated = len([i['generated'] for i in processed_transcripts[name] if i and i.get('generated')])\n",
    "    n_manual = len([i['manual'] for i in processed_transcripts[name] if i and i.get('manual')])\n",
    "    n_generated_ads = len(cleaned_ads[name]['generated'])\n",
    "    n_manual_ads = len(cleaned_ads[name]['manual'])\n",
    "    if n_generated == 0:\n",
    "        p_generated = 0\n",
    "    else:\n",
    "        p_generated = n_generated_ads/n_generated\n",
    "    if n_manual == 0:\n",
    "        p_manual = 0\n",
    "    else:\n",
    "        p_manual = n_manual_ads/n_manual\n",
    "    diff = abs(n_generated_ads - n_manual_ads)\n",
    "    print(f\"{name}: Generated = {n_generated_ads}/{n_generated} ({p_generated:.2%}) Manual = {n_manual_ads}/{n_manual} ({p_manual:.2%}) Difference = {diff}\")"
   ]
  },
  {
   "cell_type": "code",
   "execution_count": 35,
   "metadata": {},
   "outputs": [],
   "source": [
    "# Save processed to json file\n",
    "with open('/workspaces/youtube-ad-detection/data/processed_transcripts_gpt4o.json', 'w') as f:\n",
    "    json.dump(processed_transcripts, f, indent=4)\n",
    "with open('/workspaces/youtube-ad-detection/data/processed_ads_gpt4o.json', 'w') as f:\n",
    "    json.dump(reshaped_ads, f, indent=4)"
   ]
  },
  {
   "cell_type": "markdown",
   "metadata": {},
   "source": [
    "### GPT-4"
   ]
  },
  {
   "cell_type": "code",
   "execution_count": 78,
   "metadata": {},
   "outputs": [],
   "source": [
    "# Load Ad Data\n",
    "with open('/workspaces/youtube-ad-detection/data/ads_gpt4.json') as f:\n",
    "    ads = json.load(f)"
   ]
  },
  {
   "cell_type": "code",
   "execution_count": 79,
   "metadata": {},
   "outputs": [],
   "source": [
    "# Find the ads with ad value as string\n",
    "string_errors = []\n",
    "for name, value in ads.items():\n",
    "    for transcript_type, videos in value.items():\n",
    "        for video in videos:\n",
    "            if type(video['ad'])==str and video['ad']!='None':\n",
    "                string_errors.append(video['ad'])"
   ]
  },
  {
   "cell_type": "code",
   "execution_count": 80,
   "metadata": {},
   "outputs": [],
   "source": [
    "# Fix errors\n",
    "cleaned_ads = {}\n",
    "# Loop through each ad\n",
    "for name, value in ads.items():\n",
    "    cleaned_ads[name] = {}\n",
    "    # Loop through each transcript type\n",
    "    for transcript_type, videos in value.items():\n",
    "        cleaned_ads[name][transcript_type] = []\n",
    "        # Loop through each video\n",
    "        for video in videos:\n",
    "            # If the ad is a string and not None\n",
    "            if type(video['ad'])==str and video['ad']!='None':\n",
    "                reformatted = video['ad']\\\n",
    "                                    .replace('```', '')\\\n",
    "                                    .replace('json', '')\\\n",
    "                                    .replace('\\n', '')\\\n",
    "                                    .replace(\"'text'\", '\"text\"')\\\n",
    "                                    .replace(\"'start'\", '\"start\"')\\\n",
    "                                    .replace(\"'duration'\", '\"duration\"')\\\n",
    "                                    .replace(\": '\", ': \"')\\\n",
    "                                    .replace(\"', \", '\", ')\\\n",
    "                                    .replace('],[', ',')\\\n",
    "                                    .replace('][', ',')\\\n",
    "                                    .replace('\\xa0\\n', ' ')\\\n",
    "                                    .replace('\\u2019', \"'\")\n",
    "                try:\n",
    "                    if video['videoId'] in ['15MaSayc28c', 'lkIFF4maKMU']:\n",
    "                        pass\n",
    "                    else:\n",
    "                        cleaned_ads[name][transcript_type].append(\n",
    "                            {   \n",
    "                                'videoId': video['videoId'],\n",
    "                                'ad': json.loads(reformatted)\n",
    "                            }\n",
    "                        )\n",
    "                except Exception as e:\n",
    "                    print(e)\n",
    "                    print(f\"{name} - {transcript_type} - {video['videoId']}\")\n",
    "                    print(reformatted)\n",
    "            # If the ad is a string and is None\n",
    "            elif type(video['ad'])==str and video['ad']=='None':\n",
    "                pass\n",
    "            # If the ad is a list\n",
    "            else:\n",
    "                cleaned_ads[name][transcript_type].append(\n",
    "                    {   \n",
    "                        'videoId': video['videoId'],\n",
    "                        'ad': video['ad']\n",
    "                    }\n",
    "                )"
   ]
  },
  {
   "cell_type": "code",
   "execution_count": 81,
   "metadata": {},
   "outputs": [],
   "source": [
    "# Reshape\n",
    "reshaped_ads = {}\n",
    "# Loop through each ad\n",
    "for name, value in cleaned_ads.items():\n",
    "    reshaped_ads[name] = []\n",
    "    # Loop through each transcript type\n",
    "    for transcript_type, videos in value.items():\n",
    "        # Loop through each video\n",
    "        for video in videos:\n",
    "            # Check if dictionary with videoId exists\n",
    "            if video['videoId'] not in [x['videoId'] for x in reshaped_ads[name]]:\n",
    "                # If the video ID does not exist, add it\n",
    "                reshaped_ads[name].append(\n",
    "                    {\n",
    "                        'videoId': video['videoId'],\n",
    "                        transcript_type: video['ad']\n",
    "                    }\n",
    "                )\n",
    "                # else add the transcript to the dictionary\n",
    "            else:\n",
    "                for x in reshaped_ads[name]:\n",
    "                    if x['videoId']==video['videoId']:\n",
    "                        x[transcript_type] = video['ad']\n",
    "\n",
    "# Ensure manual and generated keys are in each dictionary\n",
    "for name, value in reshaped_ads.items():\n",
    "    for video in value:\n",
    "        if 'manual' not in video.keys():\n",
    "            video['manual'] = None\n",
    "        if 'generated' not in video.keys():\n",
    "            video['generated'] = None"
   ]
  },
  {
   "cell_type": "code",
   "execution_count": 82,
   "metadata": {},
   "outputs": [],
   "source": [
    "# For each transcript, check if it contains an ad by checking if the dictionary value from the ad data is in the transcript dictionaries\n",
    "processed_transcripts = {}\n",
    "# Loop through each channel\n",
    "for name, value in cleaned_transcripts.items():\n",
    "    processed_transcripts[name] = []\n",
    "    # Loop through each video\n",
    "    for video in value:\n",
    "        if video:\n",
    "            data = {\n",
    "                'metadata': {\n",
    "                    'videoId': video['videoId'],\n",
    "                    'contains_ad': False\n",
    "                },\n",
    "                'generated': video['generated'],\n",
    "                'manual': video['manual'],\n",
    "            }\n",
    "            # Find the corresponding video in the reshaped ads\n",
    "            for ad_video in reshaped_ads[name]:\n",
    "                if video['videoId']==ad_video['videoId']:\n",
    "                    # Loop through generated and manual transcripts\n",
    "                    for transcript_type in ['generated', 'manual']:\n",
    "                        if data[transcript_type] is not None and ad_video[transcript_type] is not None:\n",
    "                            # Loop through items in generated or manual transcript\n",
    "                            for item in data[transcript_type]:\n",
    "                                # Check if the item is in the ad dictionary\n",
    "                                if item['text'] in [i['text'] for i in ad_video[transcript_type]]:\n",
    "                                    item['ad'] = True\n",
    "                                    data['metadata']['contains_ad'] = True\n",
    "                                else:\n",
    "                                    item['ad'] = False\n",
    "            processed_transcripts[name].append(data)"
   ]
  },
  {
   "cell_type": "code",
   "execution_count": 83,
   "metadata": {},
   "outputs": [
    {
     "name": "stdout",
     "output_type": "stream",
     "text": [
      "SciShow: Generated = 24/47 (51.06%) Manual = 25/28 (89.29%) Difference = 1\n",
      "Johnny Harris: Generated = 42/48 (87.50%) Manual = 42/44 (95.45%) Difference = 0\n",
      "PBS Space Time: Generated = 26/44 (59.09%) Manual = 28/48 (58.33%) Difference = 2\n",
      "3Blue1Brown: Generated = 1/9 (11.11%) Manual = 7/49 (14.29%) Difference = 6\n",
      "DamiLee: Generated = 16/48 (33.33%) Manual = 7/9 (77.78%) Difference = 9\n",
      "Fireship: Generated = 18/47 (38.30%) Manual = 0/0 (0.00%) Difference = 18\n"
     ]
    }
   ],
   "source": [
    "for name in ['SciShow', 'Johnny Harris', 'PBS Space Time', '3Blue1Brown', 'DamiLee', 'Fireship']:\n",
    "    n_generated = len([i['generated'] for i in processed_transcripts[name] if i and i.get('generated')])\n",
    "    n_manual = len([i['manual'] for i in processed_transcripts[name] if i and i.get('manual')])\n",
    "    n_generated_ads = len(cleaned_ads[name]['generated'])\n",
    "    n_manual_ads = len(cleaned_ads[name]['manual'])\n",
    "    if n_generated == 0:\n",
    "        p_generated = 0\n",
    "    else:\n",
    "        p_generated = n_generated_ads/n_generated\n",
    "    if n_manual == 0:\n",
    "        p_manual = 0\n",
    "    else:\n",
    "        p_manual = n_manual_ads/n_manual\n",
    "    diff = abs(n_generated_ads - n_manual_ads)\n",
    "    print(f\"{name}: Generated = {n_generated_ads}/{n_generated} ({p_generated:.2%}) Manual = {n_manual_ads}/{n_manual} ({p_manual:.2%}) Difference = {diff}\")"
   ]
  },
  {
   "cell_type": "code",
   "execution_count": 45,
   "metadata": {},
   "outputs": [],
   "source": [
    "# Save processed to json file\n",
    "with open('/workspaces/youtube-ad-detection/data/processed_transcripts_gpt4.json', 'w') as f:\n",
    "    json.dump(processed_transcripts, f, indent=4)\n",
    "with open('/workspaces/youtube-ad-detection/data/processed_ads_gpt4.json', 'w') as f:\n",
    "    json.dump(reshaped_ads, f, indent=4)"
   ]
  },
  {
   "cell_type": "code",
   "execution_count": null,
   "metadata": {},
   "outputs": [],
   "source": []
  }
 ],
 "metadata": {
  "kernelspec": {
   "display_name": "Python 3",
   "language": "python",
   "name": "python3"
  },
  "language_info": {
   "codemirror_mode": {
    "name": "ipython",
    "version": 3
   },
   "file_extension": ".py",
   "mimetype": "text/x-python",
   "name": "python",
   "nbconvert_exporter": "python",
   "pygments_lexer": "ipython3",
   "version": "3.12.5"
  }
 },
 "nbformat": 4,
 "nbformat_minor": 2
}
